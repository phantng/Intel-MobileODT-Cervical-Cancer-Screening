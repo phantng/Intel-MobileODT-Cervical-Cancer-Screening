{
 "cells": [
  {
   "cell_type": "code",
   "execution_count": 1,
   "metadata": {},
   "outputs": [
    {
     "data": {
      "text/plain": [
       "'\\nAim:\\n    Classify cervical types -> 1,2 or 3, which are mutually exclusive\\n    \\nScenario:\\n    Two training sets, one test set, and one prediction set. We are building a model based on samples of medical images, \\n    some of which are taken using different equipments -> we will use data augmentations techniques to increase training \\n    data size. We Will only use base training images.\\n    \\nModel:\\n    We will build a NN based on some pretrained architectures and fine-tune the model to work with our data. \\n'"
      ]
     },
     "execution_count": 1,
     "metadata": {},
     "output_type": "execute_result"
    }
   ],
   "source": [
    "\"\"\"\n",
    "Aim:\n",
    "    Classify cervical types -> 1,2 or 3, which are mutually exclusive\n",
    "    \n",
    "Scenario:\n",
    "    Two training sets, one test set, and one prediction set. We are building a model based on samples of medical images, \n",
    "    some of which are taken using different equipments -> we will use data augmentations techniques to increase training \n",
    "    data size. We Will only use base training images.\n",
    "    \n",
    "Model:\n",
    "    We will build a NN based on some pretrained architectures and fine-tune the model to work with our data. \n",
    "\"\"\""
   ]
  },
  {
   "cell_type": "code",
   "execution_count": 2,
   "metadata": {
    "scrolled": true
   },
   "outputs": [],
   "source": [
    "#import base python modules, numpy and other utilities\n",
    "import sys, os, re, math, random, gc\n",
    "import numpy as np\n",
    "import pandas as pd\n",
    "import matplotlib.pyplot as plt\n",
    "from glob import glob\n",
    "from time import time\n",
    "import tempfile\n",
    "import seaborn as sns\n",
    "from PIL import Image\n",
    "from PIL import ImageFile\n",
    "ImageFile.LOAD_TRUNCATED_IMAGES = True\n",
    "%matplotlib inline"
   ]
  },
  {
   "cell_type": "code",
   "execution_count": 3,
   "metadata": {},
   "outputs": [
    {
     "name": "stderr",
     "output_type": "stream",
     "text": [
      "Using TensorFlow backend.\n"
     ]
    }
   ],
   "source": [
    "#import ML libraries\n",
    "import cv2\n",
    "import tensorflow as tf\n",
    "from tensorflow import keras\n",
    "from tensorflow.python.client import device_lib\n",
    "from keras import backend as K\n",
    "from skimage import measure\n",
    "\n",
    "#import parts for full network\n",
    "from tensorflow.keras.applications import DenseNet121, ResNet50, Xception\n",
    "from tensorflow.keras.applications.densenet import preprocess_input as densenet_preprocess\n",
    "from tensorflow.keras.applications.resnet import preprocess_input as resnet_preprocess\n",
    "from tensorflow.keras.applications.xception import preprocess_input as xception_preprocess\n",
    "from tensorflow.keras.layers import \\\n",
    "                        Dense, GlobalAveragePooling2D, GlobalMaxPooling2D, Convolution2D, \\\n",
    "                        BatchNormalization, Flatten, MaxPooling2D, Dropout, Input, Conv2D\n",
    "from tensorflow.keras import layers\n",
    "from tensorflow.keras.models import Model\n",
    "from tensorflow.keras import metrics\n",
    "from tensorflow.keras.optimizers import Adam, SGD, RMSprop\n",
    "from tensorflow.keras.callbacks import ModelCheckpoint, ReduceLROnPlateau, EarlyStopping, LearningRateScheduler\n",
    "\n",
    "#import preprocessing \n",
    "from tensorflow.keras.preprocessing.image import img_to_array, ImageDataGenerator, load_img\n",
    "from sklearn.model_selection import train_test_split, StratifiedKFold\n",
    "from sklearn.utils.class_weight import compute_class_weight\n",
    "from sklearn.preprocessing import LabelEncoder, LabelBinarizer\n",
    "\n",
    "#import result visualisation functions\n",
    "from sklearn.metrics import classification_report\n",
    "from sklearn.metrics import confusion_matrix"
   ]
  },
  {
   "cell_type": "code",
   "execution_count": 4,
   "metadata": {
    "scrolled": true
   },
   "outputs": [
    {
     "name": "stdout",
     "output_type": "stream",
     "text": [
      "['/device:CPU:0', '/device:GPU:0']\n"
     ]
    }
   ],
   "source": [
    "#check if GPU is loaded properly, should return 2 devices\n",
    "def get_available_devices():\n",
    "    local_device_protos = device_lib.list_local_devices()\n",
    "    return [x.name for x in local_device_protos]\n",
    "print(get_available_devices()) "
   ]
  },
  {
   "cell_type": "code",
   "execution_count": 5,
   "metadata": {},
   "outputs": [
    {
     "data": {
      "text/plain": [
       "'All base training images and add. images were combined into 1 dir. containing 3 folders, [Type_1, ...]. Additional \\nimages are from the same patients and/or are of worse quality than the training images and will not be used in training.'"
      ]
     },
     "execution_count": 5,
     "metadata": {},
     "output_type": "execute_result"
    }
   ],
   "source": [
    "\"\"\"All base training images and add. images were combined into 1 dir. containing 3 folders, [Type_1, ...]. Additional \n",
    "images are from the same patients and/or are of worse quality than the training images and will not be used in training.\"\"\""
   ]
  },
  {
   "cell_type": "code",
   "execution_count": 6,
   "metadata": {
    "scrolled": true
   },
   "outputs": [
    {
     "name": "stdout",
     "output_type": "stream",
     "text": [
      "Number of images for Type_1: 249. As a percentage: 16.98%\n",
      "Number of images for Type_2: 772. As a percentage: 52.66%\n",
      "Number of images for Type_3: 445. As a percentage: 30.35%\n",
      "Total number of images: 1466\n",
      "Working directory: C:\\Users\\phann\\Coding\\Untitled Folder\n"
     ]
    }
   ],
   "source": [
    "work_dir = os.getcwd()\n",
    "train_dir = \"C:/Users/phann/Coding/Projects/Cervical Cancer ML/Train Directory/\"\n",
    "test_dir = \"C:/Users/phann/Coding/Projects/Cervical Cancer ML/Test Directory/\"\n",
    "test_file = pd.read_csv(\"C:/Users/phann/Coding/Projects/Cervical Cancer ML/test_set_label.csv\")\n",
    "\n",
    "#get number of training images for each type\n",
    "n_images = 1466\n",
    "for folder in os.listdir(train_dir):\n",
    "    x = len(os.listdir(train_dir + str(folder)))\n",
    "    print(\"Number of images for {}: {}. As a percentage: {}%\".format(str(folder), x, (round(x*100/n_images, 2))))\n",
    "print(\"Total number of images:\", n_images)\n",
    "print(\"Working directory:\", work_dir)\n",
    "\n",
    "#The data is skewed towards Type_2 -> could make our problem stochastic, predicting Type_2 or not Type_2."
   ]
  },
  {
   "cell_type": "code",
   "execution_count": 7,
   "metadata": {},
   "outputs": [],
   "source": [
    "#for getting input data\n",
    "def get_filepath(img_type):\n",
    "    #get all image file path of its type. Image type has to be in ['Type_1','Type_2','Type_3']\n",
    "    img_list = [] \n",
    "    folder = os.path.join(train_dir, str(img_type))\n",
    "    for file in glob(os.path.join(folder, \"*jpg\")):\n",
    "        img_list.append(file)\n",
    "    return img_list\n",
    "def get_img_as_arr(fname):\n",
    "    #get image data as np.array specifying image id and type from filepath\n",
    "    img = Image.open(fname)\n",
    "    img_arr = np.array(img) #img_arr.shape: height x width x channel\n",
    "    return img_arr\n",
    "def get_img_dim(fname):\n",
    "    #get name, tuple of image dimensions from filepath\n",
    "    name = str(fname).split(\"/\")[-1]\n",
    "    img = Image.open(fname)\n",
    "    width, height = img.size\n",
    "    dimensions = (width, height)\n",
    "    return name, dimensions"
   ]
  },
  {
   "cell_type": "code",
   "execution_count": 8,
   "metadata": {},
   "outputs": [
    {
     "data": {
      "image/png": "[encoded data removed]",
      "text/plain": [
       "<Figure size 360x360 with 9 Axes>"
      ]
     },
     "metadata": {
      "needs_background": "light"
     },
     "output_type": "display_data"
    }
   ],
   "source": [
    "#Get all img paths and names \n",
    "types = ['Type_1','Type_2','Type_3']\n",
    "all_img_names = []\n",
    "all_img_paths = []\n",
    "for c_type in types:\n",
    "    path = get_filepath(c_type)\n",
    "    all_img_paths += path\n",
    "    for file in path:\n",
    "        x = file.split(\"/\")[-1]\n",
    "        all_img_names.append(x)\n",
    "\n",
    "#plot out five random entries of all images\n",
    "fig = plt.figure(figsize=(5, 5))\n",
    "columns, rows = 3, 3\n",
    "for i in range(1, columns*rows +1):\n",
    "    img = all_img_paths[np.random.randint(0, len(all_img_paths))]\n",
    "    img = Image.open(img).convert('LA')\n",
    "    fig.add_subplot(rows, columns, i)\n",
    "    plt.imshow(img)\n",
    "plt.show()"
   ]
  },
  {
   "cell_type": "code",
   "execution_count": 9,
   "metadata": {},
   "outputs": [
    {
     "name": "stdout",
     "output_type": "stream",
     "text": [
      "Max and min dimensions: (4128, 3096) (480, 640)\n",
      "Number of images at minimum dimensions: 6\n",
      "Images at minimum dimensions: 'Type_1\\\\1251.jpg', 'Type_1\\\\833.jpg', 'Type_2\\\\167.jpg', 'Type_2\\\\268.jpg', 'Type_2\\\\354.jpg', 'Type_3\\\\728.jpg'\n"
     ]
    }
   ],
   "source": [
    "dim_dict = {\"Name\": [], \"Dimensions\": []}\n",
    "sample_size = 500\n",
    "sampling = False\n",
    "get_dims = True\n",
    "\n",
    "if get_dims == True:\n",
    "    for c_type in types:\n",
    "        train_path = os.path.join(train_dir, c_type)\n",
    "        folder = glob(train_path + \"/*.jpg\")\n",
    "        if sampling == True:\n",
    "            #use sampling if data is too large -> look at only a subset of images\n",
    "            batch = np.random.choice(folder, size=sample_size, replace=False)\n",
    "            for file in batch:\n",
    "                name, dim = get_img_dim(file)\n",
    "                dim_dict[\"Name\"].append(name)\n",
    "                dim_dict[\"Dimensions\"].append(dim)\n",
    "        else:\n",
    "            for file in folder:\n",
    "                name, dim = get_img_dim(file)\n",
    "                dim_dict[\"Name\"].append(name)\n",
    "                dim_dict[\"Dimensions\"].append(dim)\n",
    "    max_dim = max(dim_dict[\"Dimensions\"])\n",
    "    min_dim = min(dim_dict[\"Dimensions\"])\n",
    "    min_dim_list = [dim_dict[\"Name\"][i] for i in range(len(dim_dict[\"Dimensions\"])) if dim_dict[\"Dimensions\"][i] == min_dim]\n",
    "    print(\"Max and min dimensions:\", max_dim, min_dim)\n",
    "    print(\"Number of images at minimum dimensions:\", dim_dict[\"Dimensions\"].count(min(dim_dict[\"Dimensions\"])))\n",
    "    print(\"Images at minimum dimensions:\", \", \".join(repr(e) for e in min_dim_list))"
   ]
  },
  {
   "cell_type": "code",
   "execution_count": 10,
   "metadata": {},
   "outputs": [],
   "source": [
    "#dict with boxes: use this for your local verification\n",
    "bb_json = {}\n",
    "type_1_bb_file = pd.read_table(\"Type_1_bbox.tsv\", sep = \" \",\n",
    "                header = None,\n",
    "                usecols = range(6),\n",
    "                names = ['filename','nbox','x','y','width','height'])\n",
    "type_2_bb_file = pd.read_table(\"Type_2_bbox.tsv\", sep = \" \",\n",
    "                header = None,\n",
    "                usecols = range(6),\n",
    "                names = ['filename','nbox','x','y','width','height'])\n",
    "type_3_bb_file = pd.read_table(\"Type_3_bbox.tsv\", sep = \" \",\n",
    "                header = None,\n",
    "                usecols = range(6),\n",
    "                names = ['filename','nbox','x','y','width','height'])"
   ]
  },
  {
   "cell_type": "code",
   "execution_count": 11,
   "metadata": {
    "scrolled": true
   },
   "outputs": [
    {
     "name": "stdout",
     "output_type": "stream",
     "text": [
      "Type_1\\0.jpg [{'x': 882, 'y': 961, 'width': 1042, 'height': 1106}]\n",
      "Type_1\\10.jpg [{'x': 972, 'y': 2349, 'width': 1052, 'height': 715}]\n",
      "Type_1\\1013.jpg [{'x': 606, 'y': 1437, 'width': 774, 'height': 825}]\n",
      "Number of bounding boxes: 1466\n",
      "We have bounding boxes for 100.0% of all images\n"
     ]
    }
   ],
   "source": [
    "bb_files = [type_1_bb_file, type_2_bb_file, type_3_bb_file]\n",
    "filenames = []\n",
    "for file in bb_files:\n",
    "    for index, l in file.iterrows():\n",
    "        filenames.append(l['filename'])\n",
    "        bb_json[l['filename'].split('/')[-1]] = sorted([l[['x', 'y', 'width', 'height']].to_dict()], \n",
    "                                                   key = lambda var: var['width']*var['height'])\n",
    "for name in filenames[:3]:\n",
    "    print(name, bb_json[str(name)])\n",
    "print(\"Number of bounding boxes:\", len(filenames))\n",
    "print(\"We have bounding boxes for {}% of all images\".format(round(len(filenames)*100/len(all_img_names), 0)))"
   ]
  },
  {
   "cell_type": "code",
   "execution_count": 12,
   "metadata": {},
   "outputs": [],
   "source": [
    "#decide whether to keep the low res/bad images; remove images that do not have bounding boxes, due to being low quality\n",
    "scan = False\n",
    "remove_lowres = False\n",
    "pruning = True\n",
    "img_size_threshold = 307200 #480x640, or another custom res from the data\n",
    "\n",
    "if scan == True:\n",
    "    for c_type in types:\n",
    "        train_path = os.path.join(train_dir, c_type)\n",
    "        folder = glob(train_path + \"/\" + \"*.jpg\")\n",
    "        for file in folder:\n",
    "            name, dim = get_img_dim(file)\n",
    "            totalsize = dim[0]*dim[1]\n",
    "            if name not in filenames:\n",
    "                print(\"Removed this file: \", name)\n",
    "                os.remove(file)\n",
    "            if totalsize <= img_size_threshold and remove_lowres == True:\n",
    "                print(\"Removed this file: \", name)\n",
    "                os.remove(file)\n",
    "#check if number of bounding boxes = number of images to be inputted\n",
    "pruning = True\n",
    "if pruning == True:\n",
    "    for name in filenames:\n",
    "        if name not in all_img_names:\n",
    "            print(name)"
   ]
  },
  {
   "cell_type": "code",
   "execution_count": 13,
   "metadata": {},
   "outputs": [],
   "source": [
    "#for computing and plotting bounding boxes\n",
    "def get_bb(filelist):\n",
    "    #concatenate all tsv tables into 1 dataframe. Assumes all tsv tables have the same columns\n",
    "    lst = []\n",
    "    for filename in filelist:\n",
    "        df = pd.read_csv(filename, index_col=None, header=0)\n",
    "        lst.append(df)\n",
    "    frame = pd.concat(lst, axis=0, ignore_index=True)\n",
    "    return frame\n",
    "def to_plot(img):\n",
    "    #reverse color channels\n",
    "    return np.rollaxis(img, 0, 3).astype(np.uint8)\n",
    "def create_rect(bb, color):\n",
    "    #create a rectangle out of [x, y, width, height]\n",
    "    return plt.Rectangle((bb[0], bb[1]), bb[2], bb[3], color=color, fill=False, lw=3)\n",
    "def show_bb(directory, i):\n",
    "    #plot out bounding box. We don't want to plot out everything -> use index to control what to plot\n",
    "    img = Image.open(os.path.join(directory, filenames[i])).convert('LA')\n",
    "    bb = bb_json[filenames[i].split('/')[-1]][0]\n",
    "    plt.figure(figsize=(2,2))\n",
    "    s = img.size\n",
    "    plt.imshow(img)\n",
    "    ax=plt.gca()\n",
    "    ax.add_patch(create_rect([bb['x'],bb['y'],bb['width'],bb['height']], 'yellow'))"
   ]
  },
  {
   "cell_type": "code",
   "execution_count": 14,
   "metadata": {},
   "outputs": [
    {
     "name": "stdout",
     "output_type": "stream",
     "text": [
      "[{'x': 882, 'y': 961, 'width': 1042, 'height': 1106}]\n",
      "[{'x': 972, 'y': 2349, 'width': 1052, 'height': 715}]\n",
      "[{'x': 606, 'y': 1437, 'width': 774, 'height': 825}]\n",
      "1466 1466\n"
     ]
    },
    {
     "data": {
      "image/png": "[encoded data removed]",
      "text/plain": [
       "<Figure size 144x144 with 1 Axes>"
      ]
     },
     "metadata": {
      "needs_background": "light"
     },
     "output_type": "display_data"
    },
    {
     "data": {
      "image/png": "[encoded data removed]",
      "text/plain": [
       "<Figure size 144x144 with 1 Axes>"
      ]
     },
     "metadata": {
      "needs_background": "light"
     },
     "output_type": "display_data"
    },
    {
     "data": {
      "image/png": "[encoded data removed]",
      "text/plain": [
       "<Figure size 144x144 with 1 Axes>"
      ]
     },
     "metadata": {
      "needs_background": "light"
     },
     "output_type": "display_data"
    }
   ],
   "source": [
    "#plot out the first 3 bounding boxes\n",
    "for i in range(3):\n",
    "    print(bb_json[str(filenames[i])])\n",
    "    show_bb(train_dir, i)\n",
    "print(len(bb_json.items()), len(all_img_names))"
   ]
  },
  {
   "cell_type": "code",
   "execution_count": 15,
   "metadata": {},
   "outputs": [],
   "source": [
    "#get [x, y, width, height] as a tuple. 2nd function read then crops the bounding box out of the original picture\n",
    "def get_dict_values(filepath):\n",
    "    #get 4-tuple of bounding box from valid filepath\n",
    "    filename = str(filepath).split(\"/\")[-1]\n",
    "    tup = tuple()\n",
    "    for key, value in bb_json[str(filename)][0].items():\n",
    "        tup += (value,)\n",
    "    return tup\n",
    "def get_cropped_image(filepath, size):\n",
    "    #takes filepath, returns cropped image array\n",
    "    img = cv2.imread(filepath)\n",
    "    img = cv2.cvtColor(img, cv2.COLOR_BGR2RGB)\n",
    "    x = get_dict_values(filepath)\n",
    "    #bb_corners = tuple(np.reshape(convert_to_corners(x), newshape=-1))\n",
    "    cropped_img = img[x[1]:(x[1]+x[3]), x[0]:(x[0]+x[2])]\n",
    "    cropped_img = cv2.resize(cropped_img, size)\n",
    "    return cropped_img"
   ]
  },
  {
   "cell_type": "code",
   "execution_count": 16,
   "metadata": {},
   "outputs": [
    {
     "name": "stdout",
     "output_type": "stream",
     "text": [
      "(1466, 224, 224, 3)\n",
      "Time taken: 244.74392175674438\n"
     ]
    }
   ],
   "source": [
    "#set image loading size, read and preprocess images to np.array (with n_images as shape[0])\n",
    "t0 = time()\n",
    "target_sz = (224,224)\n",
    "all_img = []\n",
    "for img in all_img_paths:\n",
    "    all_img.append(np.expand_dims(get_cropped_image(img, target_sz), axis=0))\n",
    "\n",
    "#stack vertically for later augmentation (make compatible with train_labels_encoded's dimensions)\n",
    "all_img = np.vstack(all_img)\n",
    "print(all_img.shape)\n",
    "print(\"Time taken:\", (time() - t0))"
   ]
  },
  {
   "cell_type": "code",
   "execution_count": 17,
   "metadata": {},
   "outputs": [
    {
     "name": "stdout",
     "output_type": "stream",
     "text": [
      "(1466,)\n"
     ]
    }
   ],
   "source": [
    "def get_labels_from_path(path_list):\n",
    "    #extract labels from file names\n",
    "    train_labels = []\n",
    "    for path in path_list:\n",
    "        x = path.split(\".jpg\")[0]\n",
    "        x = x.split(\"/\")[-1]\n",
    "        x = x.split(\"\\\\\")[0]\n",
    "        train_labels.append(x)\n",
    "    return train_labels\n",
    "\n",
    "#encode labels -> [0,1,2] -> [0,0,1] for three classes (one-hot)\n",
    "train_labels = get_labels_from_path(all_img_paths)\n",
    "train_labels = LabelEncoder().fit_transform(train_labels)\n",
    "train_labels_encoded = LabelBinarizer().fit_transform(train_labels)\n",
    "print(train_labels.shape)"
   ]
  },
  {
   "cell_type": "code",
   "execution_count": 18,
   "metadata": {},
   "outputs": [
    {
     "name": "stdout",
     "output_type": "stream",
     "text": [
      "Weights to be used: {0: 1.962516733601071, 1: 0.6329879101899827, 2: 1.09812734082397}\n"
     ]
    }
   ],
   "source": [
    "weights_dict = dict(zip(np.unique(train_labels), compute_class_weight(class_weight=\"balanced\", \n",
    "                                                                      classes=np.unique(train_labels), \n",
    "                                                                      y=np.ravel(train_labels))))\n",
    "print(\"Weights to be used:\", weights_dict)"
   ]
  },
  {
   "cell_type": "code",
   "execution_count": 19,
   "metadata": {},
   "outputs": [],
   "source": [
    "x_train, x_val, y_train, y_val = train_test_split(all_img, \n",
    "                                                  train_labels_encoded, \n",
    "                                                  test_size=0.2, \n",
    "                                                  random_state=42, \n",
    "                                                  shuffle=True, \n",
    "                                                  stratify=train_labels)"
   ]
  },
  {
   "cell_type": "code",
   "execution_count": 20,
   "metadata": {},
   "outputs": [],
   "source": [
    "#Hyperparameters\n",
    "batchsize = 2\n",
    "rand_seed = None"
   ]
  },
  {
   "cell_type": "code",
   "execution_count": 21,
   "metadata": {},
   "outputs": [],
   "source": [
    "def data_aug(x_train, y_train, x_val, y_val):\n",
    "    #augment training images. Note that validation data is NOT augmented\n",
    "    train_gen = ImageDataGenerator(\n",
    "        rotation_range=20,\n",
    "        width_shift_range=0.15,\n",
    "        height_shift_range=0.15,\n",
    "        shear_range=0.15,\n",
    "        zoom_range=[0.7,1.3],\n",
    "        brightness_range=[0.8,1.2],\n",
    "        vertical_flip=True,\n",
    "        horizontal_flip=True,\n",
    "        data_format=\"channels_last\",\n",
    "    )\n",
    "    #generate training data flow\n",
    "    aug_train = train_gen.flow(\n",
    "        x=x_train,\n",
    "        y=y_train,\n",
    "        batch_size=batchsize,\n",
    "        seed=rand_seed,\n",
    "        shuffle=shuffling,\n",
    "    )\n",
    "    #normalise validation images\n",
    "    val_gen = ImageDataGenerator(\n",
    "        data_format=\"channels_last\")\n",
    "    aug_val = val_gen.flow(\n",
    "        x=x_val,\n",
    "        y=y_val,\n",
    "        batch_size=batchsize,\n",
    "        seed=0,\n",
    "        shuffle=False,\n",
    "    )\n",
    "    return aug_train, aug_val"
   ]
  },
  {
   "cell_type": "code",
   "execution_count": 22,
   "metadata": {},
   "outputs": [],
   "source": [
    "def test_data_gen(batchsize, target_sz):\n",
    "    #Test_gen is not augmented. Either have directory manually set or make x_col in flow absolute paths\n",
    "    test_gen = ImageDataGenerator(rescale=1.0/255, data_format=\"channels_last\", preprocessing_function=xception_preprocess)\n",
    "    #generate validation data flow\n",
    "    aug_test = test_gen.flow_from_dataframe(\n",
    "        dataframe=test_file,\n",
    "        directory=test_dir,\n",
    "        x_col=\"image_name\",\n",
    "        y_col=\"Type\",\n",
    "        batch_size=batchsize,\n",
    "        color_mode=\"rgb\",\n",
    "        shuffle=False,\n",
    "        class_mode=\"categorical\",\n",
    "        target_size=target_sz,\n",
    "    )\n",
    "    return aug_test"
   ]
  },
  {
   "cell_type": "code",
   "execution_count": 23,
   "metadata": {},
   "outputs": [
    {
     "name": "stdout",
     "output_type": "stream",
     "text": [
      "Found 512 validated image filenames belonging to 3 classes.\n",
      "[1 1 0 2 2 1 1 1 1 1 1 2 1 2 1 2 0 1 1 2 0 1 1 0 1 0 1 2 1 2 0 1 1 0 1 2 1\n",
      " 1 1 0 2 1 1 1 0 2 0 0 2 2 2 0 2 0 2 2 1 1 1 0 2 1 2 1 1 0 2 2 2 2 0 1 1 0\n",
      " 2 0 2 1 2 0 1 1 1 2 0 1 2 2 1 2 0 1 2 1 1 1 0 2 1 2 0 1 1 0 1 1 1 1 2 2 1\n",
      " 0 2 2 1 1 1 1 2 1 1 1 2 0 2 1 1 1 1 1 1 2 2 2 1 1 1 1 1 1 1 2 0 2 1 2 1 1\n",
      " 1 2 0 2 1 2 0 2 1 2 2 1 0 1 1 1 1 0 0 2 0 1 1 2 1 0 1 2 1 1 2 1 2 0 2 1 2\n",
      " 2 1 1 1 2 1 1 2 0 1 0 0 1 2 2 1 1 1 1 1 2 1 2 2 2 2 1 1 2 1 1 1 1 1 1 1 2\n",
      " 2 2 2 1 1 1 1 1 1 0 0 1 2 1 1 1 2 1 2 1 1 1 2 1 1 1 0 0 1 0 2 2 2 1 2 1 2\n",
      " 2 0 2 1 1 0 2 2 1 0 1 2 1 2 2 1 2 1 1 2 2 1 1 1 2 2 1 1 2 2 0 1 1 1 0 2 1\n",
      " 1 1 2 0 1 2 1 0 0 1 2 2 0 2 2 2 0 1 1 1 0 0 1 1 1 1 1 2 1 2 2 1 2 2 0 0 1\n",
      " 2 2 2 0 1 1 2 1 1 0 2 0 0 1 1 1 1 1 1 1 2 1 0 0 1 1 2 1 1 1 1 2 1 2 0 1 1\n",
      " 1 0 2 2 1 1 2 0 1 2 2 1 0 1 1 1 2 2 1 1 1 1 1 2 1 0 1 1 1 1 2 2 0 1 1 1 0\n",
      " 1 1 2 2 1 2 1 2 0 0 1 2 0 1 1 2 2 1 2 2 1 2 2 0 0 2 2 1 2 1 1 1 1 2 1 1 1\n",
      " 1 0 1 1 1 0 2 1 2 0 1 2 1 0 0 1 0 1 1 2 1 1 1 0 1 2 1 1 0 1 1 1 1 0 1 2 2\n",
      " 2 0 1 2 2 1 1 1 0 1 2 1 0 1 1 2 1 1 2 1 1 2 1 2 1 1 1 1 1 1 2]\n"
     ]
    }
   ],
   "source": [
    "#generate test data for model evaluation\n",
    "test_data = test_data_gen(batchsize, target_sz)\n",
    "true_preds = np.array(test_file[\"Type\"])\n",
    "true_preds = LabelEncoder().fit_transform(true_preds)\n",
    "print(true_preds)"
   ]
  },
  {
   "cell_type": "code",
   "execution_count": 24,
   "metadata": {},
   "outputs": [],
   "source": [
    "METRICS = [\n",
    "    tf.keras.metrics.CategoricalAccuracy(name=\"accuracy\"),\n",
    "    tf.keras.metrics.Precision(name='precision'),\n",
    "    tf.keras.metrics.Recall(name='recall'),\n",
    "    tf.keras.metrics.AUC(name='auc'),\n",
    "]"
   ]
  },
  {
   "cell_type": "code",
   "execution_count": 25,
   "metadata": {},
   "outputs": [
    {
     "name": "stdout",
     "output_type": "stream",
     "text": [
      "Model: \"model\"\n",
      "_________________________________________________________________\n",
      "Layer (type)                 Output Shape              Param #   \n",
      "=================================================================\n",
      "input_2 (InputLayer)         [(None, 224, 224, 3)]     0         \n",
      "_________________________________________________________________\n",
      "normalization (Normalization (None, 224, 224, 3)       7         \n",
      "_________________________________________________________________\n",
      "xception (Functional)        (None, 7, 7, 2048)        20861480  \n",
      "_________________________________________________________________\n",
      "dropout (Dropout)            (None, 7, 7, 2048)        0         \n",
      "_________________________________________________________________\n",
      "flatten (Flatten)            (None, 100352)            0         \n",
      "_________________________________________________________________\n",
      "dense (Dense)                (None, 64)                6422592   \n",
      "_________________________________________________________________\n",
      "dense_1 (Dense)              (None, 3)                 195       \n",
      "=================================================================\n",
      "Total params: 27,284,274\n",
      "Trainable params: 27,229,739\n",
      "Non-trainable params: 54,535\n",
      "_________________________________________________________________\n"
     ]
    }
   ],
   "source": [
    "def create_model(metrics=METRICS, output_bias=None):\n",
    "    #can also compute initial bias for better first few epochs\n",
    "    if output_bias is not None:\n",
    "        output_bias = tf.keras.initializers.Constant(output_bias)\n",
    "        \n",
    "    #start with pretrained model. Output is 4D tensor block\n",
    "    img_shape = (target_sz[0], target_sz[1], 3)\n",
    "    base_model = Xception(weights=\"imagenet\", include_top=False, input_shape=img_shape)\n",
    "    \n",
    "    #making input layer; normalize to (-1, 1) similar to xception preprocess_input\n",
    "    inputs = keras.Input(shape=img_shape)\n",
    "    norm_layer = layers.experimental.preprocessing.Normalization()\n",
    "    mean = np.array([127.5] * 3)\n",
    "    var = mean ** 2\n",
    "    model_layer = norm_layer(inputs)\n",
    "    norm_layer.set_weights([mean, var])\n",
    "    \n",
    "    #further model layers\n",
    "    model_layer = base_model(model_layer)\n",
    "    model_layer = Dropout(0.7)(model_layer)\n",
    "    model_layer = Flatten()(model_layer)\n",
    "    model_layer = Dense(64, activation='relu')(model_layer) \n",
    "    final_layer = Dense(3, activation='softmax', bias_initializer=output_bias)(model_layer) \n",
    "\n",
    "    #compiling final model\n",
    "    full_model = Model(inputs, final_layer)\n",
    "    opt = SGD(learning_rate=0.0015, momentum=0.05, nesterov=True)\n",
    "    full_model.compile(optimizer=opt, loss=\"categorical_crossentropy\", metrics=metrics)\n",
    "    return full_model\n",
    "\n",
    "create_model().summary()"
   ]
  },
  {
   "cell_type": "code",
   "execution_count": 26,
   "metadata": {},
   "outputs": [
    {
     "name": "stdout",
     "output_type": "stream",
     "text": [
      "[[0.28940165 0.14798789 0.56261045]\n",
      " [0.30810204 0.2513118  0.44058615]\n",
      " [0.17963009 0.25718948 0.56318045]\n",
      " [0.23736154 0.36070275 0.4019357 ]\n",
      " [0.27308378 0.2231541  0.5037621 ]\n",
      " [0.37657726 0.28560528 0.33781746]\n",
      " [0.36700594 0.33155715 0.3014369 ]\n",
      " [0.29815817 0.27022034 0.4316215 ]\n",
      " [0.20976853 0.33819458 0.45203692]\n",
      " [0.17831846 0.4004259  0.42125565]]\n",
      "733/733 [==============================] - 32s 42ms/step - loss: 1.2788 - accuracy: 0.2146 - precision: 0.1181 - recall: 0.0279 - auc: 0.3571\n",
      "Loss: 1.1768\n"
     ]
    }
   ],
   "source": [
    "#predict first 10 features\n",
    "model = create_model()\n",
    "print(model.predict(np.array(all_img[:10])))\n",
    "\n",
    "#we want to see what the model performance is like with initial weights\n",
    "results = model.evaluate(all_img, train_labels_encoded, batch_size=batchsize, verbose=1)\n",
    "print(\"Loss: {:0.4f}\".format(results[0]))"
   ]
  },
  {
   "cell_type": "code",
   "execution_count": 27,
   "metadata": {},
   "outputs": [
    {
     "name": "stdout",
     "output_type": "stream",
     "text": [
      "[[0.18442477 0.4185391  0.39703608]\n",
      " [0.21852125 0.4061799  0.37529877]\n",
      " [0.05322037 0.38806105 0.5587186 ]\n",
      " [0.26350152 0.4998757  0.23662277]\n",
      " [0.19883445 0.41414347 0.38702208]\n",
      " [0.15109424 0.49568805 0.35321778]\n",
      " [0.20247142 0.5529605  0.2445681 ]\n",
      " [0.12251889 0.60940576 0.26807538]\n",
      " [0.03361785 0.21829683 0.7480854 ]\n",
      " [0.08225332 0.3868729  0.5308738 ]]\n",
      "733/733 [==============================] - 32s 42ms/step - loss: 1.5506 - accuracy: 0.2869 - precision: 0.2192 - recall: 0.0777 - auc: 0.4530\n",
      "Loss: 1.1640\n"
     ]
    }
   ],
   "source": [
    "#initial bias computed using basic definitions\n",
    "#see http://karpathy.github.io/2019/04/25/recipe/#2-set-up-the-end-to-end-trainingevaluation-skeleton--get-dumb-baselines\n",
    "initial_bias = [0, 1.1336, 0.582]\n",
    "\n",
    "model = create_model(output_bias=initial_bias)\n",
    "print(model.predict(np.array(all_img[:10])))\n",
    "\n",
    "#we want to see what the model performance is like with new biases\n",
    "results = model.evaluate(all_img, train_labels_encoded, batch_size=batchsize, verbose=1)\n",
    "print(\"Loss: {:0.4f}\".format(results[0]))"
   ]
  },
  {
   "cell_type": "code",
   "execution_count": 28,
   "metadata": {},
   "outputs": [],
   "source": [
    "#save our weights for later use\n",
    "#model.save_weights(os.path.join(work_dir, \"initial_weights.h5\"))\n",
    "\n",
    "initial_weights = os.path.join(tempfile.mkdtemp(), 'initial_weights')\n",
    "model.save_weights(initial_weights)"
   ]
  },
  {
   "cell_type": "code",
   "execution_count": 29,
   "metadata": {
    "scrolled": true
   },
   "outputs": [
    {
     "name": "stdout",
     "output_type": "stream",
     "text": [
      "Epoch 1/20\n",
      "586/586 [==============================] - 120s 198ms/step - loss: 1.1040 - accuracy: 0.3652 - precision: 0.3682 - recall: 0.1681 - auc: 0.5603 - val_loss: 1.0026 - val_accuracy: 0.4320 - val_precision: 0.4000 - val_recall: 0.1020 - val_auc: 0.6644\n",
      "Epoch 2/20\n",
      "586/586 [==============================] - 120s 206ms/step - loss: 0.9265 - accuracy: 0.5776 - precision: 0.6173 - recall: 0.3891 - auc: 0.7485 - val_loss: 0.9477 - val_accuracy: 0.5136 - val_precision: 0.5714 - val_recall: 0.2041 - val_auc: 0.7313\n",
      "Epoch 3/20\n",
      "586/586 [==============================] - 124s 212ms/step - loss: 0.8303 - accuracy: 0.6047 - precision: 0.6495 - recall: 0.5089 - auc: 0.8016 - val_loss: 0.9257 - val_accuracy: 0.4796 - val_precision: 0.5395 - val_recall: 0.2789 - val_auc: 0.7352\n",
      "Epoch 4/20\n",
      "586/586 [==============================] - 126s 215ms/step - loss: 0.7436 - accuracy: 0.6778 - precision: 0.7149 - recall: 0.5937 - auc: 0.8494 - val_loss: 0.9662 - val_accuracy: 0.4830 - val_precision: 0.5307 - val_recall: 0.3231 - val_auc: 0.7084\n",
      "Epoch 5/20\n",
      "586/586 [==============================] - 126s 215ms/step - loss: 0.7042 - accuracy: 0.7036 - precision: 0.7647 - recall: 0.6401 - auc: 0.8654 - val_loss: 0.8676 - val_accuracy: 0.5510 - val_precision: 0.6413 - val_recall: 0.4014 - val_auc: 0.7728\n",
      "Epoch 6/20\n",
      "586/586 [==============================] - 127s 217ms/step - loss: 0.4678 - accuracy: 0.8257 - precision: 0.8511 - recall: 0.7872 - auc: 0.9420 - val_loss: 0.9334 - val_accuracy: 0.5102 - val_precision: 0.5708 - val_recall: 0.4116 - val_auc: 0.7415\n",
      "Epoch 7/20\n",
      "586/586 [==============================] - 126s 215ms/step - loss: 0.4169 - accuracy: 0.8335 - precision: 0.8602 - recall: 0.8166 - auc: 0.9531 - val_loss: 1.0315 - val_accuracy: 0.4830 - val_precision: 0.5000 - val_recall: 0.3844 - val_auc: 0.7034\n",
      "Epoch 8/20\n",
      "586/586 [==============================] - 126s 216ms/step - loss: 0.4227 - accuracy: 0.8455 - precision: 0.8585 - recall: 0.8262 - auc: 0.9514 - val_loss: 0.9887 - val_accuracy: 0.5816 - val_precision: 0.6341 - val_recall: 0.5306 - val_auc: 0.7695\n",
      "Epoch 9/20\n",
      "586/586 [==============================] - 127s 216ms/step - loss: 0.2897 - accuracy: 0.8859 - precision: 0.8959 - recall: 0.8688 - auc: 0.9774 - val_loss: 1.3438 - val_accuracy: 0.5782 - val_precision: 0.5911 - val_recall: 0.5408 - val_auc: 0.7310\n",
      "Epoch 10/20\n",
      "586/586 [==============================] - 127s 216ms/step - loss: 0.1975 - accuracy: 0.9251 - precision: 0.9350 - recall: 0.9236 - auc: 0.9869 - val_loss: 1.2591 - val_accuracy: 0.5306 - val_precision: 0.5255 - val_recall: 0.4898 - val_auc: 0.7037\n",
      "Epoch 11/20\n",
      "586/586 [==============================] - 127s 217ms/step - loss: 0.1426 - accuracy: 0.9657 - precision: 0.9699 - recall: 0.9594 - auc: 0.9929 - val_loss: 1.2426 - val_accuracy: 0.5408 - val_precision: 0.5538 - val_recall: 0.4898 - val_auc: 0.7182\n",
      "Epoch 12/20\n",
      "586/586 [==============================] - 127s 217ms/step - loss: 0.4655 - accuracy: 0.8280 - precision: 0.8457 - recall: 0.8160 - auc: 0.9415 - val_loss: 0.9609 - val_accuracy: 0.5408 - val_precision: 0.5774 - val_recall: 0.4694 - val_auc: 0.7435\n",
      "Epoch 13/20\n",
      "586/586 [==============================] - 127s 217ms/step - loss: 0.4837 - accuracy: 0.8041 - precision: 0.8254 - recall: 0.7813 - auc: 0.9352 - val_loss: 1.0381 - val_accuracy: 0.5170 - val_precision: 0.5640 - val_recall: 0.4796 - val_auc: 0.7427\n",
      "Epoch 14/20\n",
      "586/586 [==============================] - 127s 217ms/step - loss: 0.3424 - accuracy: 0.8713 - precision: 0.8837 - recall: 0.8534 - auc: 0.9674 - val_loss: 1.1149 - val_accuracy: 0.5442 - val_precision: 0.5775 - val_recall: 0.5068 - val_auc: 0.7449\n",
      "Epoch 15/20\n",
      "586/586 [==============================] - 127s 216ms/step - loss: 0.2648 - accuracy: 0.9077 - precision: 0.9069 - recall: 0.8987 - auc: 0.9786 - val_loss: 1.1538 - val_accuracy: 0.5442 - val_precision: 0.5730 - val_recall: 0.5204 - val_auc: 0.7369\n",
      "Epoch 16/20\n",
      "586/586 [==============================] - 126s 216ms/step - loss: 0.1357 - accuracy: 0.9501 - precision: 0.9538 - recall: 0.9467 - auc: 0.9952 - val_loss: 1.2793 - val_accuracy: 0.5680 - val_precision: 0.5751 - val_recall: 0.5340 - val_auc: 0.7485\n",
      "Epoch 17/20\n",
      "586/586 [==============================] - 127s 217ms/step - loss: 0.1323 - accuracy: 0.9487 - precision: 0.9510 - recall: 0.9482 - auc: 0.9944 - val_loss: 1.3489 - val_accuracy: 0.5102 - val_precision: 0.5197 - val_recall: 0.4932 - val_auc: 0.7279\n",
      "Epoch 18/20\n",
      "586/586 [==============================] - 127s 217ms/step - loss: 0.0977 - accuracy: 0.9708 - precision: 0.9716 - recall: 0.9694 - auc: 0.9963 - val_loss: 1.2632 - val_accuracy: 0.5544 - val_precision: 0.5560 - val_recall: 0.5238 - val_auc: 0.7393\n",
      "Epoch 19/20\n",
      "586/586 [==============================] - 128s 218ms/step - loss: 0.0637 - accuracy: 0.9742 - precision: 0.9761 - recall: 0.9734 - auc: 0.9983 - val_loss: 1.2791 - val_accuracy: 0.5068 - val_precision: 0.5273 - val_recall: 0.4932 - val_auc: 0.7270\n",
      "Epoch 20/20\n",
      "586/586 [==============================] - 128s 218ms/step - loss: 0.1011 - accuracy: 0.9612 - precision: 0.9698 - recall: 0.9609 - auc: 0.9971 - val_loss: 1.2526 - val_accuracy: 0.5714 - val_precision: 0.5934 - val_recall: 0.5510 - val_auc: 0.7585\n"
     ]
    }
   ],
   "source": [
    "model = create_model()\n",
    "model.load_weights(initial_weights)\n",
    "model.layers[-1].bias.assign([0.0, 0.0, 0.0])\n",
    "zero_bias_history = model.fit(\n",
    "    x_train,\n",
    "    y_train,\n",
    "    batch_size=batchsize,\n",
    "    epochs=20,\n",
    "    validation_data=(x_val, y_val), \n",
    "    verbose=1)"
   ]
  },
  {
   "cell_type": "code",
   "execution_count": 30,
   "metadata": {
    "scrolled": true
   },
   "outputs": [
    {
     "name": "stdout",
     "output_type": "stream",
     "text": [
      "Epoch 1/20\n",
      "586/586 [==============================] - 131s 217ms/step - loss: 1.0791 - accuracy: 0.5315 - precision: 0.5484 - recall: 0.4715 - auc: 0.7048 - val_loss: 0.9573 - val_accuracy: 0.5306 - val_precision: 0.5728 - val_recall: 0.4150 - val_auc: 0.7270\n",
      "Epoch 2/20\n",
      "586/586 [==============================] - 127s 217ms/step - loss: 0.9254 - accuracy: 0.5674 - precision: 0.5952 - recall: 0.5014 - auc: 0.7512 - val_loss: 0.9210 - val_accuracy: 0.5578 - val_precision: 0.5887 - val_recall: 0.4626 - val_auc: 0.7483\n",
      "Epoch 3/20\n",
      "586/586 [==============================] - 127s 217ms/step - loss: 0.8385 - accuracy: 0.6049 - precision: 0.6299 - recall: 0.5574 - auc: 0.7941 - val_loss: 0.9464 - val_accuracy: 0.5306 - val_precision: 0.5146 - val_recall: 0.4184 - val_auc: 0.7253\n",
      "Epoch 4/20\n",
      "586/586 [==============================] - 131s 223ms/step - loss: 0.7765 - accuracy: 0.6532 - precision: 0.6565 - recall: 0.6203 - auc: 0.8204 - val_loss: 1.0041 - val_accuracy: 0.5510 - val_precision: 0.5596 - val_recall: 0.5272 - val_auc: 0.7383\n",
      "Epoch 5/20\n",
      "586/586 [==============================] - 128s 219ms/step - loss: 0.6882 - accuracy: 0.7198 - precision: 0.7291 - recall: 0.6960 - auc: 0.8653 - val_loss: 1.0694 - val_accuracy: 0.5000 - val_precision: 0.5056 - val_recall: 0.4626 - val_auc: 0.7141\n",
      "Epoch 6/20\n",
      "586/586 [==============================] - 129s 221ms/step - loss: 0.5859 - accuracy: 0.7391 - precision: 0.7501 - recall: 0.7218 - auc: 0.9027 - val_loss: 1.0286 - val_accuracy: 0.5748 - val_precision: 0.5927 - val_recall: 0.5544 - val_auc: 0.7456\n",
      "Epoch 7/20\n",
      "586/586 [==============================] - 130s 221ms/step - loss: 0.4976 - accuracy: 0.7953 - precision: 0.8010 - recall: 0.7924 - auc: 0.9306 - val_loss: 1.0174 - val_accuracy: 0.5714 - val_precision: 0.5815 - val_recall: 0.5340 - val_auc: 0.7475\n",
      "Epoch 8/20\n",
      "586/586 [==============================] - 131s 223ms/step - loss: 0.4097 - accuracy: 0.8353 - precision: 0.8383 - recall: 0.8302 - auc: 0.9525 - val_loss: 1.2484 - val_accuracy: 0.5408 - val_precision: 0.5395 - val_recall: 0.5340 - val_auc: 0.7197\n",
      "Epoch 9/20\n",
      "586/586 [==============================] - 130s 223ms/step - loss: 0.3628 - accuracy: 0.8422 - precision: 0.8519 - recall: 0.8364 - auc: 0.9608 - val_loss: 1.2197 - val_accuracy: 0.5510 - val_precision: 0.5533 - val_recall: 0.5476 - val_auc: 0.7357\n",
      "Epoch 10/20\n",
      "586/586 [==============================] - 127s 218ms/step - loss: 0.2995 - accuracy: 0.8819 - precision: 0.8832 - recall: 0.8818 - auc: 0.9734 - val_loss: 1.4272 - val_accuracy: 0.5340 - val_precision: 0.5261 - val_recall: 0.5136 - val_auc: 0.7177\n",
      "Epoch 11/20\n",
      "586/586 [==============================] - 129s 220ms/step - loss: 0.2244 - accuracy: 0.9134 - precision: 0.9134 - recall: 0.9134 - auc: 0.9851 - val_loss: 1.6276 - val_accuracy: 0.4796 - val_precision: 0.4877 - val_recall: 0.4728 - val_auc: 0.6926\n",
      "Epoch 12/20\n",
      "586/586 [==============================] - 128s 218ms/step - loss: 0.2408 - accuracy: 0.9121 - precision: 0.9131 - recall: 0.9115 - auc: 0.9814 - val_loss: 1.4654 - val_accuracy: 0.5748 - val_precision: 0.5734 - val_recall: 0.5714 - val_auc: 0.7378\n",
      "Epoch 13/20\n",
      "586/586 [==============================] - 134s 229ms/step - loss: 0.1900 - accuracy: 0.9235 - precision: 0.9235 - recall: 0.9235 - auc: 0.9885 - val_loss: 1.6971 - val_accuracy: 0.5510 - val_precision: 0.5483 - val_recall: 0.5408 - val_auc: 0.7209\n",
      "Epoch 14/20\n",
      "586/586 [==============================] - 132s 225ms/step - loss: 0.1248 - accuracy: 0.9519 - precision: 0.9518 - recall: 0.9507 - auc: 0.9943 - val_loss: 1.4397 - val_accuracy: 0.5816 - val_precision: 0.5862 - val_recall: 0.5782 - val_auc: 0.7518\n",
      "Epoch 15/20\n",
      "586/586 [==============================] - 128s 218ms/step - loss: 0.1106 - accuracy: 0.9677 - precision: 0.9677 - recall: 0.9677 - auc: 0.9947 - val_loss: 1.7167 - val_accuracy: 0.5646 - val_precision: 0.5646 - val_recall: 0.5646 - val_auc: 0.7571\n",
      "Epoch 16/20\n",
      "586/586 [==============================] - 128s 218ms/step - loss: 0.0898 - accuracy: 0.9705 - precision: 0.9708 - recall: 0.9680 - auc: 0.9967 - val_loss: 1.5820 - val_accuracy: 0.5884 - val_precision: 0.5870 - val_recall: 0.5850 - val_auc: 0.7588\n",
      "Epoch 17/20\n",
      "586/586 [==============================] - 128s 218ms/step - loss: 0.0904 - accuracy: 0.9757 - precision: 0.9757 - recall: 0.9757 - auc: 0.9962 - val_loss: 1.6771 - val_accuracy: 0.5884 - val_precision: 0.5925 - val_recall: 0.5884 - val_auc: 0.7633\n",
      "Epoch 18/20\n",
      "586/586 [==============================] - 128s 218ms/step - loss: 0.1358 - accuracy: 0.9635 - precision: 0.9635 - recall: 0.9635 - auc: 0.9916 - val_loss: 1.3498 - val_accuracy: 0.5986 - val_precision: 0.6007 - val_recall: 0.5884 - val_auc: 0.7583\n",
      "Epoch 19/20\n",
      "586/586 [==============================] - 127s 217ms/step - loss: 0.0714 - accuracy: 0.9793 - precision: 0.9793 - recall: 0.9793 - auc: 0.9978 - val_loss: 1.3034 - val_accuracy: 0.5850 - val_precision: 0.5897 - val_recall: 0.5816 - val_auc: 0.7728\n",
      "Epoch 20/20\n",
      "586/586 [==============================] - 128s 218ms/step - loss: 0.0611 - accuracy: 0.9768 - precision: 0.9768 - recall: 0.9766 - auc: 0.9981 - val_loss: 1.4533 - val_accuracy: 0.5850 - val_precision: 0.5897 - val_recall: 0.5816 - val_auc: 0.7645\n"
     ]
    }
   ],
   "source": [
    "model = create_model()\n",
    "model.load_weights(initial_weights)\n",
    "careful_bias_history = model.fit(\n",
    "    x_train,\n",
    "    y_train,\n",
    "    batch_size=batchsize,\n",
    "    epochs=20,\n",
    "    validation_data=(x_val, y_val), \n",
    "    verbose=1)"
   ]
  },
  {
   "cell_type": "code",
   "execution_count": 31,
   "metadata": {},
   "outputs": [],
   "source": [
    "def plot_loss(history, label, n):\n",
    "    # Use a log scale on y-axis to show the wide range of values.\n",
    "    plt.semilogy(history.epoch, history.history['loss'], \n",
    "                 color=colors[n], label='Train ' + label)\n",
    "    plt.semilogy(history.epoch, history.history['val_loss'], \n",
    "                 color=colors[n], label='Val ' + label, linestyle=\"--\")\n",
    "    plt.xlabel('Epoch')\n",
    "    plt.ylabel('Loss')"
   ]
  },
  {
   "cell_type": "code",
   "execution_count": 34,
   "metadata": {},
   "outputs": [
    {
     "data": {
      "image/png": "[encoded data removed]",
      "text/plain": [
       "<Figure size 432x288 with 1 Axes>"
      ]
     },
     "metadata": {
      "needs_background": "light"
     },
     "output_type": "display_data"
    }
   ],
   "source": [
    "#we will see that bias initialization so that e^B_i/sum(e^B_j) = proportion of ith class in population does not \n",
    "#return good enough results compared to 0 initialization, but does appear to lead to more stable optimization\n",
    "colors = plt.rcParams['axes.prop_cycle'].by_key()['color']\n",
    "plot_loss(zero_bias_history, \"Zero Bias\", 0)\n",
    "plot_loss(careful_bias_history, \"Careful Bias\", 1)"
   ]
  },
  {
   "cell_type": "code",
   "execution_count": 42,
   "metadata": {},
   "outputs": [],
   "source": [
    "def plot_metrics(history):\n",
    "    metrics = ['loss', 'auc', 'precision', 'recall']\n",
    "    for n, metric in enumerate(metrics):\n",
    "        name = metric.replace(\"_\",\" \").capitalize()\n",
    "        plt.subplot(2,2,n+1)\n",
    "        plt.plot(history.epoch, history.history[metric], color=colors[0], label='Train')\n",
    "        plt.plot(history.epoch, history.history['val_'+metric], \n",
    "                 color=colors[0], linestyle=\"--\", label='Val')\n",
    "        plt.xlabel('Epoch')\n",
    "        plt.ylabel(name)\n",
    "        if metric == 'loss':\n",
    "            plt.ylim([0, plt.ylim()[1]])\n",
    "        elif metric == 'auc':\n",
    "            plt.ylim([0.8,1])\n",
    "        else:\n",
    "            plt.ylim([0,1])\n",
    "        plt.legend()"
   ]
  },
  {
   "cell_type": "code",
   "execution_count": 44,
   "metadata": {},
   "outputs": [
    {
     "data": {
      "image/png": "[encoded data removed]",
      "text/plain": [
       "<Figure size 432x288 with 4 Axes>"
      ]
     },
     "metadata": {
      "needs_background": "light"
     },
     "output_type": "display_data"
    }
   ],
   "source": [
    "plot_metrics(careful_bias_history)"
   ]
  },
  {
   "cell_type": "code",
   "execution_count": null,
   "metadata": {},
   "outputs": [],
   "source": [
    "#note that val_auc <= 0.7, so it does not show up"
   ]
  },
  {
   "cell_type": "code",
   "execution_count": null,
   "metadata": {},
   "outputs": [],
   "source": [
    "def scheduler(epoch, lr):\n",
    "    #reduce learning rate exponentially\n",
    "    if int(epoch) % 2 == 0 and epoch <= 16:\n",
    "        return lr*np.exp(-0.06)\n",
    "    elif epoch > 16:\n",
    "        return lr*np.exp(-0.1)\n",
    "    else: \n",
    "        return lr"
   ]
  },
  {
   "cell_type": "code",
   "execution_count": null,
   "metadata": {},
   "outputs": [],
   "source": [
    "#set up callback components\n",
    "LRreduce = ReduceLROnPlateau(monitor='val_accuracy', factor=0.75, patience=4, verbose=1, min_lr=1e-6)\n",
    "checkpoint = ModelCheckpoint(\"model.h5\", monitor=\"val_accuracy\", verbose=1, save_best_only=True)\n",
    "earlystop1 = EarlyStopping(monitor=\"val_auc\", patience=10, verbose=1, mode=\"max\")\n",
    "earlystop2 = EarlyStopping(monitor=\"val_accuracy\", min_delta=0.005, patience=8, verbose=1, mode=\"auto\")\n",
    "lrscheduler = LearningRateScheduler(scheduler, verbose=1)"
   ]
  },
  {
   "cell_type": "code",
   "execution_count": null,
   "metadata": {},
   "outputs": [],
   "source": [
    "#we want to see \n",
    "model = create_model(target_sz)\n",
    "\n",
    "#we want to see what the model performance is like with initial weights\n",
    "LR = 0.0015\n",
    "opt = SGD(learning_rate=LR, momentum=0.05, nesterov=True)\n",
    "model.compile(optimizer=opt, loss=\"categorical_crossentropy\", metrics=METRICS)\n",
    "\n",
    "#fit the baseline model\n",
    "baseline_history = model.fit(\n",
    "    x_train,\n",
    "    y_train,\n",
    "    batch_size=batchsize,\n",
    "    epochs=20,\n",
    "    callbacks=[earlystop1],\n",
    "    validation_data=(x_val, y_val))"
   ]
  },
  {
   "cell_type": "code",
   "execution_count": null,
   "metadata": {},
   "outputs": [],
   "source": []
  },
  {
   "cell_type": "code",
   "execution_count": null,
   "metadata": {},
   "outputs": [],
   "source": [
    "#freeze base layers\n",
    "for layer in model.layers:\n",
    "    if \"xception\" in layer.name:\n",
    "        layer.trainable = False\n",
    "\n",
    "#Compile model using SGD with Nesterov adjustment\n",
    "LR = 0.0015\n",
    "opt = SGD(learning_rate=LR, decay=1e-6, momentum=0.9, nesterov=True)\n",
    "model.compile(optimizer=opt, loss=\"categorical_crossentropy\", metrics=[\"accuracy\"])"
   ]
  },
  {
   "cell_type": "code",
   "execution_count": null,
   "metadata": {},
   "outputs": [],
   "source": [
    "#perform 5-fold stratified split, to maintain imbalance of data when training -> avoid strong bias when training\n",
    "kfold = StratifiedKFold(n_splits=6, shuffle=True, random_state=42)\n",
    "cvscores = []\n",
    "Fold = 1\n",
    "t0 = time()\n",
    "for train, val in kfold.split(all_img, train_labels):\n",
    "    gc.collect()\n",
    "    K.clear_session()\n",
    "    print (\"Fold: \",Fold)\n",
    "    \n",
    "    x_train = all_img[train]\n",
    "    x_val = all_img[val]\n",
    "    y_train = train_labels_encoded[train]\n",
    "    y_val = train_labels_encoded[val]\n",
    "\n",
    "    aug_train, aug_val = data_aug(x_train, y_train, x_val, y_val)\n",
    "    callbacks = [checkpoint, lrscheduler]\n",
    "    history = model.fit_generator(aug_train, \n",
    "            steps_per_epoch=x_train.shape[0]//batchsize,\n",
    "            validation_data=aug_val,\n",
    "            class_weight=weights_dict,\n",
    "            epochs=30,\n",
    "            callbacks=callbacks,\n",
    "            verbose=2)\n",
    "    \n",
    "    # Save each fold model\n",
    "    model_name = 'CERVimg_Fold'+str(Fold)+'.h5'\n",
    "    model.save(model_name)\n",
    "    \n",
    "    # evaluate the model\n",
    "    scores = model.evaluate(x_val, y_val, verbose=1)\n",
    "    print(\"%s: %.2f%%\" % (model.metrics_names[1], scores[1]*100))\n",
    "    cvscores.append(scores[1] * 100)\n",
    "    \n",
    "    Fold = Fold +1\n",
    "\n",
    "print(\"%s: %.2f%%\" % (\"Mean Accuracy: \", np.mean(cvscores)))\n",
    "print(\"%s: %.2f%%\" % (\"Standard Deviation: +/-\", np.std(cvscores)))\n",
    "print(\"Time taken:\", (time() - t0))"
   ]
  },
  {
   "cell_type": "code",
   "execution_count": null,
   "metadata": {},
   "outputs": [],
   "source": [
    "plt.plot(history.history[\"accuracy\"])\n",
    "plt.show()\n",
    "plt.plot(history.history[\"loss\"])\n",
    "plt.show()\n",
    "plt.plot(history.history[\"val_accuracy\"])\n",
    "plt.show()\n",
    "plt.plot(history.history[\"val_loss\"])\n",
    "plt.show()"
   ]
  },
  {
   "cell_type": "code",
   "execution_count": null,
   "metadata": {},
   "outputs": [],
   "source": [
    "#Unfreeze base layers, but keep batchnorm in inference mode -> calculate norm using moving mean and std dev instead\n",
    "#of batch mean and std dev\n",
    "for layer in model.layers:\n",
    "    if \"bn\" not in layer.name:\n",
    "        layer.trainable = True  \n",
    "\n",
    "#recompile model after unfreezing\n",
    "LR = 1.05e-5\n",
    "opt = Adam(learning_rate=LR)\n",
    "model.compile(optimizer=opt, loss='categorical_crossentropy', metrics=['accuracy'])"
   ]
  },
  {
   "cell_type": "code",
   "execution_count": null,
   "metadata": {},
   "outputs": [],
   "source": [
    "def scheduler(epoch, lr):\n",
    "    #reduce learning rate exponentially\n",
    "    if 1 < epoch <= 16:\n",
    "        return lr*np.exp(-0.02)\n",
    "    elif epoch > 16:\n",
    "        return lr*np.exp(-0.1)\n",
    "    else:\n",
    "        return lr\n",
    "lrscheduler = LearningRateScheduler(scheduler, verbose=1)"
   ]
  },
  {
   "cell_type": "code",
   "execution_count": null,
   "metadata": {},
   "outputs": [],
   "source": [
    "kfold = StratifiedKFold(n_splits=6, shuffle=True, random_state=0)\n",
    "cvscores = []\n",
    "Fold = 1\n",
    "t0 = time()\n",
    "for train, val in kfold.split(all_img, train_labels):\n",
    "    gc.collect()\n",
    "    K.clear_session()\n",
    "    print (\"Fold: \", Fold)\n",
    "    \n",
    "    x_train = all_img[train]\n",
    "    x_val = all_img[val]\n",
    "    y_train = train_labels_encoded[train]\n",
    "    y_val = train_labels_encoded[val]\n",
    "\n",
    "    aug_train, aug_val = data_aug(x_train, y_train, x_val, y_val)\n",
    "    callbacks = [checkpoint, lrscheduler]\n",
    "    history = model.fit_generator(aug_train, \n",
    "            steps_per_epoch=x_train.shape[0]//batchsize,\n",
    "            validation_data=aug_val,\n",
    "            class_weight=weights_dict,\n",
    "            epochs=30,\n",
    "            callbacks=callbacks,\n",
    "            verbose=1)\n",
    "    \n",
    "    # Save each fold model\n",
    "    model_name = 'FinetunedCERVimg_Fold'+str(Fold)+'.h5'\n",
    "    model.save(model_name)\n",
    "    \n",
    "    # evaluate the model\n",
    "    scores = model.evaluate(test_data, true_preds, verbose=1)\n",
    "    print(\"%s: %.2f%%\" % (model.metrics_names[1], scores[1]*100))\n",
    "    cvscores.append(scores[1] * 100)\n",
    "    \n",
    "    Fold = Fold +1\n",
    "\n",
    "print(\"%s: %.2f%%\" % (\"Mean Accuracy: \", np.mean(cvscores)))\n",
    "print(\"%s: %.2f%%\" % (\"Standard Deviation: +/-\", np.std(cvscores)))\n",
    "print(\"Time taken:\", (time() - t0))"
   ]
  },
  {
   "cell_type": "code",
   "execution_count": null,
   "metadata": {},
   "outputs": [],
   "source": [
    "plt.plot(history.history[\"accuracy\"])\n",
    "plt.show()\n",
    "plt.plot(history.history[\"loss\"])\n",
    "plt.show()\n",
    "plt.plot(history.history[\"val_accuracy\"])\n",
    "plt.show()\n",
    "plt.plot(history.history[\"val_loss\"])\n",
    "plt.show()"
   ]
  },
  {
   "cell_type": "code",
   "execution_count": null,
   "metadata": {},
   "outputs": [],
   "source": [
    "pred = model.predict(test_data)\n",
    "print(pred)\n",
    "class_preds = np.argmax(pred, axis=-1)\n",
    "print(class_preds)\n",
    "\n",
    "test_data = test_data_gen(batchsize, target_sz)\n",
    "true_preds = np.array(test_file[\"Type\"])\n",
    "true_preds = LabelEncoder().fit_transform(true_preds)\n",
    "print(true_preds)"
   ]
  },
  {
   "cell_type": "code",
   "execution_count": null,
   "metadata": {
    "scrolled": true
   },
   "outputs": [],
   "source": [
    "print(classification_report(true_preds, class_preds))\n",
    "print(confusion_matrix(true_preds, class_preds, labels=types))"
   ]
  },
  {
   "cell_type": "code",
   "execution_count": null,
   "metadata": {},
   "outputs": [],
   "source": []
  },
  {
   "cell_type": "code",
   "execution_count": null,
   "metadata": {},
   "outputs": [],
   "source": [
    "data_augmentation = keras.Sequential(\n",
    "    [\n",
    "        layers.experimental.preprocessing.RandomFlip(\"horizontal_and_vertical\"),\n",
    "        layers.experimental.preprocessing.RandomRotation(0.15),\n",
    "        layers.experimental.preprocessing.RandomTranslation(height_factor=0.2, width_factor=0.15),\n",
    "        layers.experimental.preprocessing.RandomZoom(height_factor=0.2, width_factor=0.2)\n",
    "    ]\n",
    ")"
   ]
  }
 ],
 "metadata": {
  "kernelspec": {
   "display_name": "Python 3",
   "language": "python",
   "name": "python3"
  },
  "language_info": {
   "codemirror_mode": {
    "name": "ipython",
    "version": 3
   },
   "file_extension": ".py",
   "mimetype": "text/x-python",
   "name": "python",
   "nbconvert_exporter": "python",
   "pygments_lexer": "ipython3",
   "version": "3.7.6"
  }
 },
 "nbformat": 4,
 "nbformat_minor": 4
}
